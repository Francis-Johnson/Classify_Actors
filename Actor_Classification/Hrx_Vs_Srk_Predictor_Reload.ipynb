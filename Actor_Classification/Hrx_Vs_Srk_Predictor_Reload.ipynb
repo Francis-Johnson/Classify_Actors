{
 "cells": [
  {
   "cell_type": "code",
   "execution_count": 9,
   "metadata": {},
   "outputs": [
    {
     "name": "stdout",
     "output_type": "stream",
     "text": [
      "Loaded model from disk\n"
     ]
    }
   ],
   "source": [
    "# load YAML and create model\n",
    "from keras.models import model_from_yaml\n",
    "yaml_file = open('hrx_srk_model_epochs_100.yaml', 'r')\n",
    "loaded_model_yaml = yaml_file.read()\n",
    "yaml_file.close()\n",
    "loaded_model = model_from_yaml(loaded_model_yaml)\n",
    "# load weights into new model\n",
    "loaded_model.load_weights(\"hrx_srk_model_yaml_epochs_100.h5\")\n",
    "print(\"Loaded model from disk\")"
   ]
  },
  {
   "cell_type": "code",
   "execution_count": 5,
   "metadata": {
    "collapsed": true
   },
   "outputs": [],
   "source": [
    "import numpy as np\n",
    "from keras.preprocessing import image"
   ]
  },
  {
   "cell_type": "code",
   "execution_count": 12,
   "metadata": {},
   "outputs": [
    {
     "name": "stdout",
     "output_type": "stream",
     "text": [
      "0.jpg is Hrithik Roshan\n",
      "\n",
      "\n",
      "1.jpg is Hrithik Roshan\n",
      "\n",
      "\n",
      "2.jpg is Shah Rukh Khan\n",
      "\n",
      "\n",
      "3.jpg is Hrithik Roshan\n",
      "\n",
      "\n",
      "4.jpg is Shah Rukh Khan\n",
      "\n",
      "\n",
      "5.jpg is Hrithik Roshan\n",
      "\n",
      "\n",
      "6.jpg is Shah Rukh Khan\n",
      "\n",
      "\n",
      "7.jpg is Hrithik Roshan\n",
      "\n",
      "\n",
      "8.jpg is Shah Rukh Khan\n",
      "\n",
      "\n",
      "9.jpg is Shah Rukh Khan\n",
      "\n",
      "\n",
      "10.jpg is Shah Rukh Khan\n",
      "\n",
      "\n",
      "11.jpg is Hrithik Roshan\n",
      "\n",
      "\n",
      "12.jpg is Hrithik Roshan\n",
      "\n",
      "\n",
      "13.jpg is Hrithik Roshan\n",
      "\n",
      "\n",
      "14.jpg is Hrithik Roshan\n",
      "\n",
      "\n",
      "15.jpg is Shah Rukh Khan\n",
      "\n",
      "\n",
      "16.jpg is Hrithik Roshan\n",
      "\n",
      "\n",
      "17.jpg is Hrithik Roshan\n",
      "\n",
      "\n",
      "18.jpg is Hrithik Roshan\n",
      "\n",
      "\n",
      "19.jpg is Shah Rukh Khan\n",
      "\n",
      "\n"
     ]
    }
   ],
   "source": [
    "classifier = loaded_model\n",
    "result = []\n",
    "for i in range(20):\n",
    "    test_image = image.load_img('dataset/actor_prediction/HRX_SRK/{}.jpg'.format(i), target_size = (64, 64))\n",
    "    test_image = image.img_to_array(test_image)\n",
    "    test_image = np.expand_dims(test_image, axis = 0)\n",
    "    result.append(classifier.predict(test_image)) \n",
    "#print(result)\n",
    "    #training_set.class_indices\n",
    "    if result[i] == 1:\n",
    "        prediction = 'Shah Rukh Khan'\n",
    "    else:\n",
    "        prediction = 'Hrithik Roshan'     \n",
    "    print(\"{}.jpg is {}\".format(i,prediction))\n",
    "    print(\"\\n\")"
   ]
  }
 ],
 "metadata": {
  "kernelspec": {
   "display_name": "Python [conda env:Anaconda]",
   "language": "python",
   "name": "conda-env-Anaconda-py"
  },
  "language_info": {
   "codemirror_mode": {
    "name": "ipython",
    "version": 3
   },
   "file_extension": ".py",
   "mimetype": "text/x-python",
   "name": "python",
   "nbconvert_exporter": "python",
   "pygments_lexer": "ipython3",
   "version": "3.5.3"
  }
 },
 "nbformat": 4,
 "nbformat_minor": 2
}
